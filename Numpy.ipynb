{
  "nbformat": 4,
  "nbformat_minor": 0,
  "metadata": {
    "colab": {
      "provenance": [],
      "include_colab_link": true
    },
    "kernelspec": {
      "name": "python3",
      "display_name": "Python 3"
    },
    "language_info": {
      "name": "python"
    }
  },
  "cells": [
    {
      "cell_type": "markdown",
      "metadata": {
        "id": "view-in-github",
        "colab_type": "text"
      },
      "source": [
        "<a href=\"https://colab.research.google.com/github/GannojuRaviShankar/python/blob/main/Numpy.ipynb\" target=\"_parent\"><img src=\"https://colab.research.google.com/assets/colab-badge.svg\" alt=\"Open In Colab\"/></a>"
      ]
    },
    {
      "cell_type": "markdown",
      "source": [
        "1. Explain the difference between descriptive statistics and inferential statistics.\n",
        "\n",
        "2. Explain Measures of central tendency with examples.\n",
        "\n",
        "3. Generate five NumPy arrays of different dimensions.\n",
        "\n",
        "4. Determine the datatype, shape, size, and dimensions of above arrays.\n",
        "\n",
        "5. Generate two arrays with random float elements in it.\n",
        "\n",
        "perform all python operations (* + - / % //).\n",
        " Also apply all mathematical functions on the two arrays\n",
        "6.  Create a random NumPy array. Generate mean, mode, median, variance and standard deviation of that array.\n",
        "\n",
        "7. Create two NumPy arrays of the same length with random numerical values. Compute the correlation coefficient between the two arrays\n",
        "\n"
      ],
      "metadata": {
        "id": "aGh1PekSKlzz"
      }
    },
    {
      "cell_type": "markdown",
      "source": [
        "## question-1\n",
        "1.Descriptive Statistics: Descriptive statistics involves methods for summarizing and describing the features of a dataset. It focuses on organizing, summarizing, and presenting data in a meaningful way, often through measures of central tendency (e.g., mean, median, mode), measures of dispersion (e.g., range, variance, standard deviation), and graphical representations (e.g., histograms, box plots, bar charts). Descriptive statistics aim to provide insights into the characteristics of the data, such as its distribution, central tendency, and variability. These statistics are typically used to describe and understand a dataset without making any generalizations beyond the specific data being analyzed.\n",
        "\n",
        "Inferential Statistics: Inferential statistics involves methods for making predictions, inferences, or generalizations about a population based on a sample of data. It extends the findings from a sample to a larger population, allowing researchers to draw conclusions or make predictions about the population parameters. Inferential statistics often involves hypothesis testing, confidence intervals, regression analysis, and other techniques that help researchers make inferences about the population based on the observed sample data. The goal of inferential statistics is to determine whether the observed patterns in the sample data are likely to be representative of the population as a whole or if they are due to random variation."
      ],
      "metadata": {
        "id": "tBa03kdm1Tia"
      }
    },
    {
      "cell_type": "markdown",
      "source": [
        "## question-2\n",
        "Measures of central tendency are statistical measures that represent the center or average of a data set. They provide a single value that summarizes the data and helps in understanding its characteristics. The three main measures of central tendency are:\n",
        "\n",
        "Mean: The arithmetic average of a set of values, calculated by adding up all the values and dividing by the total number of values. For example, the mean of [2, 4, 6, 8, 10] is (2+4+6+8+10)/5 = 6.\n",
        "\n",
        "Median: The middle value in a sorted list of numbers. If the number of values is odd, the median is the middle number. If the number of values is even, the median is the average of the two middle numbers. For example, the median of [3, 6, 7, 8, 8, 10, 13] is 8.\n",
        "\n",
        "Mode: The value that appears most frequently in a data set. A data set may have one mode (unimodal), more than one mode (multimodal), or no mode (no repeated values). For example, the mode of [2, 3, 4, 4, 6, 6, 6, 9] is 6.\n",
        "\n"
      ],
      "metadata": {
        "id": "v4zZqUgt1cHh"
      }
    },
    {
      "cell_type": "code",
      "execution_count": 34,
      "metadata": {
        "id": "Ms0a-w5xKiyP",
        "colab": {
          "base_uri": "https://localhost:8080/"
        },
        "outputId": "88a3f65e-7de4-4b77-9c87-c6ba87c4e0eb"
      },
      "outputs": [
        {
          "output_type": "stream",
          "name": "stdout",
          "text": [
            "[1 2 3 4] 1\n",
            "[[1 2 3 4]\n",
            " [5 6 7 8]] 2\n",
            "[[[1 2 3]\n",
            "  [4 5 6]\n",
            "  [7 8 9]\n",
            "  [2 4 6]]] 3\n",
            "[[0. 0. 0. 0.]\n",
            " [0. 0. 0. 0.]\n",
            " [0. 0. 0. 0.]] 2\n",
            "[[2 1 1 5]\n",
            " [1 9 6 8]\n",
            " [4 8 2 7]] 2\n"
          ]
        }
      ],
      "source": [
        " #question-3\n",
        "import numpy as np\n",
        "array1=np.array([1,2,3,4])\n",
        "print(array1,array1.ndim)\n",
        "array2=np.array([[1,2,3,4],[5,6,7,8]])\n",
        "print(array2,array2.ndim)\n",
        "array3=np.array([[[1,2,3],[4,5,6],[7,8,9],[2,4,6]]])\n",
        "print(array3,array3.ndim)\n",
        "array4 = np.zeros((3, 4))\n",
        "print(array4, array4.ndim)\n",
        "array5=np.random.randint(1,10,size=(3,4))\n",
        "print(array5,array5.ndim)"
      ]
    },
    {
      "cell_type": "code",
      "source": [
        "#question-4\n",
        "arrays=[array1,array2,array3,array4,array5]\n",
        "\n",
        "for i,arr in enumerate(arrays, start=1):\n",
        "   print(f\"Array {i}:\")\n",
        "   print(\"Data Type:\",arr.dtype)\n",
        "   print(\"Shape:\", arr.shape)\n",
        "   print(\"Size:\", arr.size)\n",
        "   print(\"Dimensions:\", arr.ndim)\n",
        "   print()"
      ],
      "metadata": {
        "colab": {
          "base_uri": "https://localhost:8080/"
        },
        "id": "7R62SlVs2zQI",
        "outputId": "939c1081-cee1-4071-8a70-13b73e932583"
      },
      "execution_count": 35,
      "outputs": [
        {
          "output_type": "stream",
          "name": "stdout",
          "text": [
            "Array 1:\n",
            "Data Type: int64\n",
            "Shape: (4,)\n",
            "Size: 4\n",
            "Dimensions: 1\n",
            "\n",
            "Array 2:\n",
            "Data Type: int64\n",
            "Shape: (2, 4)\n",
            "Size: 8\n",
            "Dimensions: 2\n",
            "\n",
            "Array 3:\n",
            "Data Type: int64\n",
            "Shape: (1, 4, 3)\n",
            "Size: 12\n",
            "Dimensions: 3\n",
            "\n",
            "Array 4:\n",
            "Data Type: float64\n",
            "Shape: (3, 4)\n",
            "Size: 12\n",
            "Dimensions: 2\n",
            "\n",
            "Array 5:\n",
            "Data Type: int64\n",
            "Shape: (3, 4)\n",
            "Size: 12\n",
            "Dimensions: 2\n",
            "\n"
          ]
        }
      ]
    },
    {
      "cell_type": "code",
      "source": [
        "#question-5\n",
        "random_float_array1=np.random.rand(3,4)\n",
        "print('Float Array-1:-')\n",
        "print(random_float_array1)\n",
        "random_float_array2=np.random.uniform(1,10,size=(3,4))\n",
        "print('Float Array-1:-')\n",
        "print(random_float_array2)"
      ],
      "metadata": {
        "colab": {
          "base_uri": "https://localhost:8080/"
        },
        "id": "CKnabisC5Yjr",
        "outputId": "ee8f2858-4fdd-437d-eb51-998d8c4b6746"
      },
      "execution_count": 42,
      "outputs": [
        {
          "output_type": "stream",
          "name": "stdout",
          "text": [
            "Float Array-1:-\n",
            "[[0.32278013 0.0567663  0.63494655 0.8070406 ]\n",
            " [0.39760876 0.2935663  0.68972468 0.3561905 ]\n",
            " [0.82165535 0.69517153 0.04227614 0.36730134]]\n",
            "Float Array-1:-\n",
            "[[1.33150755 5.50863438 4.38395155 1.00276855]\n",
            " [3.04428834 1.91392466 9.47291971 2.16665195]\n",
            " [6.45809765 3.6541205  9.78502391 2.17859457]]\n"
          ]
        }
      ]
    },
    {
      "cell_type": "code",
      "source": [
        "#question-6\n",
        "from scipy import stats\n",
        "array=np.random.rand(10)\n",
        "print(array)\n",
        "mean=np.mean(array)\n",
        "print('\\nmean:-',mean)\n",
        "mode=stats.mode(array)\n",
        "print('\\nmode:-',mode)\n",
        "median=np.median(array)\n",
        "print('\\nmedian:-',median)\n",
        "variance=np.var(array)\n",
        "print('\\nvariance:-',variance)\n",
        "standard_deviation=np.std(array)\n",
        "print('\\nstandard deviation:-',standard_deviation)"
      ],
      "metadata": {
        "colab": {
          "base_uri": "https://localhost:8080/"
        },
        "id": "S2akViV_53PF",
        "outputId": "a71acdd5-7469-4540-c9a6-dca95796c3e1"
      },
      "execution_count": 46,
      "outputs": [
        {
          "output_type": "stream",
          "name": "stdout",
          "text": [
            "[0.70839739 0.16849408 0.61889742 0.80263392 0.05020844 0.37649271\n",
            " 0.8180667  0.54572285 0.30440295 0.72723944]\n",
            "\n",
            "mean:- 0.5120555893615821\n",
            "\n",
            "mode:- ModeResult(mode=0.05020843690764487, count=1)\n",
            "\n",
            "median:- 0.5823101364279413\n",
            "\n",
            "variance:- 0.06683156355942407\n",
            "\n",
            "standard deviation:- 0.25851801399404273\n"
          ]
        }
      ]
    },
    {
      "cell_type": "code",
      "source": [
        "#question-7\n",
        "array_x = np.random.rand(10)\n",
        "array_y = np.random.rand(10)\n",
        "\n",
        "correlation_coefficient = np.corrcoef(array_x, array_y)[0, 1]\n",
        "print(\"\\nCorrelation Coefficient:\", correlation_coefficient)"
      ],
      "metadata": {
        "colab": {
          "base_uri": "https://localhost:8080/"
        },
        "id": "6Ybg-U2R7IN2",
        "outputId": "b3f54dcd-4a88-4029-939c-0f5f705a5ebe"
      },
      "execution_count": 47,
      "outputs": [
        {
          "output_type": "stream",
          "name": "stdout",
          "text": [
            "\n",
            "Correlation Coefficient: 0.1933559656822542\n"
          ]
        }
      ]
    },
    {
      "cell_type": "code",
      "source": [],
      "metadata": {
        "id": "dhoxZcED8eI0"
      },
      "execution_count": null,
      "outputs": []
    }
  ]
}